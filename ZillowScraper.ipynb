{
 "cells": [
  {
   "cell_type": "code",
   "execution_count": 43,
   "metadata": {},
   "outputs": [],
   "source": [
    "from selenium import webdriver\n",
    "import pandas as pd\n",
    "import json\n",
    "import re\n",
    "URL = 'https://www.zillow.com/redding-ca/?searchQueryState={%22pagination%22:{},%22mapBounds%22:{%22west%22:-122.78486190039058,%22east%22:-121.83729109960933,%22south%22:40.302636704748735,%22north%22:40.98411021818667},%22regionSelection%22:[{%22regionId%22:47322,%22regionType%22:6}],%22isMapVisible%22:false,%22filterState%22:{},%22isListVisible%22:true}'\n",
    "browser = webdriver.Chrome('/Users/jorammillenaar/Library/chromedriver')"
   ]
  },
  {
   "cell_type": "code",
   "execution_count": 2,
   "metadata": {},
   "outputs": [],
   "source": [
    "browser.get(URL)"
   ]
  },
  {
   "cell_type": "code",
   "execution_count": 29,
   "metadata": {},
   "outputs": [],
   "source": [
    "listPos = 1\n",
    "scrapedData = []\n",
    "\n",
    "while True:\n",
    "    asdasd\n",
    "    XPATH_LIST = f'/html/body/div[1]/div[6]/div/div/div/div[1]/ul/li[{listPos}]'\n",
    "    try: \n",
    "        element = browser.find_element_by_xpath(XPATH_LIST)\n",
    "        scrapedData.append({\n",
    "            'text': element.text,\n",
    "            'data': element.get_attribute('innerHTML')\n",
    "        })\n",
    "        listPos+=1\n",
    "    except:\n",
    "        break\n"
   ]
  },
  {
   "cell_type": "code",
   "execution_count": 32,
   "metadata": {},
   "outputs": [],
   "source": []
  },
  {
   "cell_type": "code",
   "execution_count": 31,
   "metadata": {},
   "outputs": [],
   "source": []
  },
  {
   "cell_type": "code",
   "execution_count": 35,
   "metadata": {},
   "outputs": [],
   "source": []
  },
  {
   "cell_type": "code",
   "execution_count": 42,
   "metadata": {},
   "outputs": [
    {
     "name": "stdout",
     "output_type": "stream",
     "text": [
      "6967 Reflection St, Redding, CA 96001\n",
      "\n",
      "House for sale\n",
      "\n",
      "$339,000\n",
      "\n",
      "4 bds2 ba1,936 sqft\n",
      "\n",
      "1 hour ago\n",
      "\n",
      "HOUSE OF REALTY\n",
      "\n"
     ]
    }
   ],
   "source": []
  },
  {
   "cell_type": "code",
   "execution_count": null,
   "metadata": {},
   "outputs": [],
   "source": [
    "browser.close()"
   ]
  }
 ],
 "metadata": {
  "kernelspec": {
   "display_name": "Python 3",
   "language": "python",
   "name": "python3"
  },
  "language_info": {
   "codemirror_mode": {
    "name": "ipython",
    "version": 3
   },
   "file_extension": ".py",
   "mimetype": "text/x-python",
   "name": "python",
   "nbconvert_exporter": "python",
   "pygments_lexer": "ipython3",
   "version": "3.8.0"
  }
 },
 "nbformat": 4,
 "nbformat_minor": 4
}
